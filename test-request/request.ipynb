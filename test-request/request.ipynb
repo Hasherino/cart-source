{
 "cells": [
  {
   "cell_type": "markdown",
   "metadata": {},
   "source": [
    "# Sample requests"
   ]
  },
  {
   "cell_type": "markdown",
   "metadata": {},
   "source": [
    "#### Send audio file with \"Take me to the milk\" to `voice-commands-api`"
   ]
  },
  {
   "cell_type": "code",
   "execution_count": 24,
   "metadata": {},
   "outputs": [
    {
     "name": "stdout",
     "output_type": "stream",
     "text": [
      "Audio file downloaded successfully!\n"
     ]
    }
   ],
   "source": [
    "import requests\n",
    "\n",
    "def send_audio():\n",
    "    url = 'http://127.0.0.1:5000/process_audio'\n",
    "    with open('milk.wav', 'rb') as file:\n",
    "        files = {'audio': file}\n",
    "\n",
    "        req = requests.post(url, files=files)\n",
    "        if req.status_code == 200:\n",
    "            with open('tts_output.wav', 'wb') as f:\n",
    "                f.write(req.content)\n",
    "            print('Audio file downloaded successfully!')\n",
    "        else:\n",
    "            print('Error:', req.text)\n",
    "\n",
    "\n",
    "send_audio()"
   ]
  },
  {
   "cell_type": "markdown",
   "metadata": {},
   "source": [
    "#### Send tts to `voice-commands-api` which makes a `.wav` file and sends to speaker api"
   ]
  },
  {
   "cell_type": "code",
   "execution_count": 1,
   "metadata": {},
   "outputs": [
    {
     "name": "stdout",
     "output_type": "stream",
     "text": [
      "200\n",
      "OK\n"
     ]
    }
   ],
   "source": [
    "import requests\n",
    "\n",
    "def send_tts():\n",
    "    url = 'http://127.0.0.1:5000/send_audio'\n",
    "    request = { \"text\":\"Hello, what would you like to buy?\" }\n",
    "    req = requests.post(url, json=request)\n",
    "    print(req.status_code)\n",
    "    print(req.text)\n",
    "\n",
    "send_tts()"
   ]
  },
  {
   "cell_type": "markdown",
   "metadata": {},
   "source": [
    "#### Send command to `navigation-api`"
   ]
  },
  {
   "cell_type": "code",
   "execution_count": 25,
   "metadata": {},
   "outputs": [
    {
     "name": "stdout",
     "output_type": "stream",
     "text": [
      "200\n",
      "\"Cancelling\"\n",
      "\n"
     ]
    }
   ],
   "source": [
    "import requests\n",
    "\n",
    "def send_command():\n",
    "    url = 'http://127.0.0.1:5001/process_command'\n",
    "    request = { \"command\":\"Cancel\",\"product\":\"milk\" }\n",
    "    req = requests.post(url, json=request)\n",
    "    print(req.status_code)\n",
    "    print(req.text)\n",
    "\n",
    "send_command()"
   ]
  },
  {
   "cell_type": "markdown",
   "metadata": {},
   "source": [
    "#### Send handlebar state to `navigation-api`"
   ]
  },
  {
   "cell_type": "code",
   "execution_count": 14,
   "metadata": {},
   "outputs": [
    {
     "name": "stdout",
     "output_type": "stream",
     "text": [
      "200\n",
      "OK\n"
     ]
    }
   ],
   "source": [
    "import requests\n",
    "\n",
    "def send_command():\n",
    "    url = 'http://127.0.0.1:5001/set_handlebar'\n",
    "    request = { \"state\":\"0\" }\n",
    "    req = requests.post(url, json=request)\n",
    "    print(req.status_code)\n",
    "    print(req.text)\n",
    "\n",
    "send_command()"
   ]
  },
  {
   "cell_type": "markdown",
   "metadata": {},
   "source": [
    "#### Get current directions for cart from `navigation-api`"
   ]
  },
  {
   "cell_type": "code",
   "execution_count": 9,
   "metadata": {},
   "outputs": [
    {
     "name": "stdout",
     "output_type": "stream",
     "text": [
      "200\n",
      "34\n"
     ]
    }
   ],
   "source": [
    "import requests\n",
    "\n",
    "def get_instructions():\n",
    "    url = 'http://127.0.0.1:5001/get_instructions'\n",
    "    req = requests.get(url)\n",
    "    print(req.status_code)\n",
    "    print(int(float(req.text)))\n",
    "\n",
    "get_instructions()"
   ]
  },
  {
   "cell_type": "markdown",
   "metadata": {},
   "source": [
    "#### `TEMP` Move the cart one cell forward"
   ]
  },
  {
   "cell_type": "code",
   "execution_count": null,
   "metadata": {},
   "outputs": [],
   "source": [
    "import requests\n",
    "\n",
    "def send_command(command):\n",
    "    url = 'http://127.0.0.1:5001/move'\n",
    "    request = { \"command\":command }\n",
    "    req = requests.post(url, json=request)\n",
    "    print(req.status_code)\n",
    "    print(req.text)\n",
    "\n",
    "send_command(\"straight\")"
   ]
  },
  {
   "cell_type": "markdown",
   "metadata": {},
   "source": [
    "#### [TEMP] Rotate the cart to the left"
   ]
  },
  {
   "cell_type": "code",
   "execution_count": null,
   "metadata": {},
   "outputs": [],
   "source": [
    "import requests\n",
    "\n",
    "def send_command(command):\n",
    "    url = 'http://127.0.0.1:5001/move'\n",
    "    request = { \"command\":command }\n",
    "    req = requests.post(url, json=request)\n",
    "    print(req.status_code)\n",
    "    print(req.text)\n",
    "\n",
    "send_command(\"left\")"
   ]
  },
  {
   "cell_type": "markdown",
   "metadata": {},
   "source": [
    "#### [TEMP] Rotate the cart to the right"
   ]
  },
  {
   "cell_type": "code",
   "execution_count": null,
   "metadata": {},
   "outputs": [],
   "source": [
    "import requests\n",
    "\n",
    "def send_command(command):\n",
    "    url = 'http://127.0.0.1:5001/move'\n",
    "    request = { \"command\":command }\n",
    "    req = requests.post(url, json=request)\n",
    "    print(req.status_code)\n",
    "    print(req.text)\n",
    "\n",
    "send_command(\"right\")"
   ]
  }
 ],
 "metadata": {
  "kernelspec": {
   "display_name": "Python 3",
   "language": "python",
   "name": "python3"
  },
  "language_info": {
   "codemirror_mode": {
    "name": "ipython",
    "version": 3
   },
   "file_extension": ".py",
   "mimetype": "text/x-python",
   "name": "python",
   "nbconvert_exporter": "python",
   "pygments_lexer": "ipython3",
   "version": "3.11.9"
  }
 },
 "nbformat": 4,
 "nbformat_minor": 2
}
